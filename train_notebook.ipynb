{
 "cells": [
  {
   "cell_type": "code",
   "execution_count": 217,
   "id": "11b75fdd-8e9c-4b8b-8715-2593bf43ef0c",
   "metadata": {},
   "outputs": [
    {
     "name": "stdout",
     "output_type": "stream",
     "text": [
      "Files already downloaded and verified\n",
      "=> creating model 'pyramidnet'\n",
      "PyramidNet(\n",
      "  (conv1): Conv2d(3, 16, kernel_size=(3, 3), stride=(1, 1), padding=(1, 1), bias=False)\n",
      "  (bn1): BatchNorm2d(16, eps=1e-05, momentum=0.1, affine=True, track_running_stats=True)\n",
      "  (layer1): Sequential(\n",
      "    (0): Bottleneck(\n",
      "      (bn1): BatchNorm2d(16, eps=1e-05, momentum=0.1, affine=True, track_running_stats=True)\n",
      "      (conv1): Conv2d(16, 49, kernel_size=(1, 1), stride=(1, 1), bias=False)\n",
      "      (bn2): BatchNorm2d(49, eps=1e-05, momentum=0.1, affine=True, track_running_stats=True)\n",
      "      (conv2): Conv2d(49, 49, kernel_size=(3, 3), stride=(1, 1), padding=(1, 1), bias=False)\n",
      "      (bn3): BatchNorm2d(49, eps=1e-05, momentum=0.1, affine=True, track_running_stats=True)\n",
      "      (conv3): Conv2d(49, 196, kernel_size=(1, 1), stride=(1, 1), bias=False)\n",
      "      (bn4): BatchNorm2d(196, eps=1e-05, momentum=0.1, affine=True, track_running_stats=True)\n",
      "      (relu): ReLU(inplace=True)\n",
      "    )\n",
      "    (1): Bottleneck(\n",
      "      (bn1): BatchNorm2d(196, eps=1e-05, momentum=0.1, affine=True, track_running_stats=True)\n",
      "      (conv1): Conv2d(196, 83, kernel_size=(1, 1), stride=(1, 1), bias=False)\n",
      "      (bn2): BatchNorm2d(83, eps=1e-05, momentum=0.1, affine=True, track_running_stats=True)\n",
      "      (conv2): Conv2d(83, 83, kernel_size=(3, 3), stride=(1, 1), padding=(1, 1), bias=False)\n",
      "      (bn3): BatchNorm2d(83, eps=1e-05, momentum=0.1, affine=True, track_running_stats=True)\n",
      "      (conv3): Conv2d(83, 332, kernel_size=(1, 1), stride=(1, 1), bias=False)\n",
      "      (bn4): BatchNorm2d(332, eps=1e-05, momentum=0.1, affine=True, track_running_stats=True)\n",
      "      (relu): ReLU(inplace=True)\n",
      "    )\n",
      "    (2): Bottleneck(\n",
      "      (bn1): BatchNorm2d(332, eps=1e-05, momentum=0.1, affine=True, track_running_stats=True)\n",
      "      (conv1): Conv2d(332, 116, kernel_size=(1, 1), stride=(1, 1), bias=False)\n",
      "      (bn2): BatchNorm2d(116, eps=1e-05, momentum=0.1, affine=True, track_running_stats=True)\n",
      "      (conv2): Conv2d(116, 116, kernel_size=(3, 3), stride=(1, 1), padding=(1, 1), bias=False)\n",
      "      (bn3): BatchNorm2d(116, eps=1e-05, momentum=0.1, affine=True, track_running_stats=True)\n",
      "      (conv3): Conv2d(116, 464, kernel_size=(1, 1), stride=(1, 1), bias=False)\n",
      "      (bn4): BatchNorm2d(464, eps=1e-05, momentum=0.1, affine=True, track_running_stats=True)\n",
      "      (relu): ReLU(inplace=True)\n",
      "    )\n",
      "  )\n",
      "  (layer2): Sequential(\n",
      "    (0): Bottleneck(\n",
      "      (bn1): BatchNorm2d(464, eps=1e-05, momentum=0.1, affine=True, track_running_stats=True)\n",
      "      (conv1): Conv2d(464, 149, kernel_size=(1, 1), stride=(1, 1), bias=False)\n",
      "      (bn2): BatchNorm2d(149, eps=1e-05, momentum=0.1, affine=True, track_running_stats=True)\n",
      "      (conv2): Conv2d(149, 149, kernel_size=(3, 3), stride=(2, 2), padding=(1, 1), bias=False)\n",
      "      (bn3): BatchNorm2d(149, eps=1e-05, momentum=0.1, affine=True, track_running_stats=True)\n",
      "      (conv3): Conv2d(149, 596, kernel_size=(1, 1), stride=(1, 1), bias=False)\n",
      "      (bn4): BatchNorm2d(596, eps=1e-05, momentum=0.1, affine=True, track_running_stats=True)\n",
      "      (relu): ReLU(inplace=True)\n",
      "      (downsample): AvgPool2d(kernel_size=(2, 2), stride=(2, 2), padding=0)\n",
      "    )\n",
      "    (1): Bottleneck(\n",
      "      (bn1): BatchNorm2d(596, eps=1e-05, momentum=0.1, affine=True, track_running_stats=True)\n",
      "      (conv1): Conv2d(596, 183, kernel_size=(1, 1), stride=(1, 1), bias=False)\n",
      "      (bn2): BatchNorm2d(183, eps=1e-05, momentum=0.1, affine=True, track_running_stats=True)\n",
      "      (conv2): Conv2d(183, 183, kernel_size=(3, 3), stride=(1, 1), padding=(1, 1), bias=False)\n",
      "      (bn3): BatchNorm2d(183, eps=1e-05, momentum=0.1, affine=True, track_running_stats=True)\n",
      "      (conv3): Conv2d(183, 732, kernel_size=(1, 1), stride=(1, 1), bias=False)\n",
      "      (bn4): BatchNorm2d(732, eps=1e-05, momentum=0.1, affine=True, track_running_stats=True)\n",
      "      (relu): ReLU(inplace=True)\n",
      "    )\n",
      "    (2): Bottleneck(\n",
      "      (bn1): BatchNorm2d(732, eps=1e-05, momentum=0.1, affine=True, track_running_stats=True)\n",
      "      (conv1): Conv2d(732, 216, kernel_size=(1, 1), stride=(1, 1), bias=False)\n",
      "      (bn2): BatchNorm2d(216, eps=1e-05, momentum=0.1, affine=True, track_running_stats=True)\n",
      "      (conv2): Conv2d(216, 216, kernel_size=(3, 3), stride=(1, 1), padding=(1, 1), bias=False)\n",
      "      (bn3): BatchNorm2d(216, eps=1e-05, momentum=0.1, affine=True, track_running_stats=True)\n",
      "      (conv3): Conv2d(216, 864, kernel_size=(1, 1), stride=(1, 1), bias=False)\n",
      "      (bn4): BatchNorm2d(864, eps=1e-05, momentum=0.1, affine=True, track_running_stats=True)\n",
      "      (relu): ReLU(inplace=True)\n",
      "    )\n",
      "  )\n",
      "  (layer3): Sequential(\n",
      "    (0): Bottleneck(\n",
      "      (bn1): BatchNorm2d(864, eps=1e-05, momentum=0.1, affine=True, track_running_stats=True)\n",
      "      (conv1): Conv2d(864, 249, kernel_size=(1, 1), stride=(1, 1), bias=False)\n",
      "      (bn2): BatchNorm2d(249, eps=1e-05, momentum=0.1, affine=True, track_running_stats=True)\n",
      "      (conv2): Conv2d(249, 249, kernel_size=(3, 3), stride=(2, 2), padding=(1, 1), bias=False)\n",
      "      (bn3): BatchNorm2d(249, eps=1e-05, momentum=0.1, affine=True, track_running_stats=True)\n",
      "      (conv3): Conv2d(249, 996, kernel_size=(1, 1), stride=(1, 1), bias=False)\n",
      "      (bn4): BatchNorm2d(996, eps=1e-05, momentum=0.1, affine=True, track_running_stats=True)\n",
      "      (relu): ReLU(inplace=True)\n",
      "      (downsample): AvgPool2d(kernel_size=(2, 2), stride=(2, 2), padding=0)\n",
      "    )\n",
      "    (1): Bottleneck(\n",
      "      (bn1): BatchNorm2d(996, eps=1e-05, momentum=0.1, affine=True, track_running_stats=True)\n",
      "      (conv1): Conv2d(996, 283, kernel_size=(1, 1), stride=(1, 1), bias=False)\n",
      "      (bn2): BatchNorm2d(283, eps=1e-05, momentum=0.1, affine=True, track_running_stats=True)\n",
      "      (conv2): Conv2d(283, 283, kernel_size=(3, 3), stride=(1, 1), padding=(1, 1), bias=False)\n",
      "      (bn3): BatchNorm2d(283, eps=1e-05, momentum=0.1, affine=True, track_running_stats=True)\n",
      "      (conv3): Conv2d(283, 1132, kernel_size=(1, 1), stride=(1, 1), bias=False)\n",
      "      (bn4): BatchNorm2d(1132, eps=1e-05, momentum=0.1, affine=True, track_running_stats=True)\n",
      "      (relu): ReLU(inplace=True)\n",
      "    )\n",
      "    (2): Bottleneck(\n",
      "      (bn1): BatchNorm2d(1132, eps=1e-05, momentum=0.1, affine=True, track_running_stats=True)\n",
      "      (conv1): Conv2d(1132, 316, kernel_size=(1, 1), stride=(1, 1), bias=False)\n",
      "      (bn2): BatchNorm2d(316, eps=1e-05, momentum=0.1, affine=True, track_running_stats=True)\n",
      "      (conv2): Conv2d(316, 316, kernel_size=(3, 3), stride=(1, 1), padding=(1, 1), bias=False)\n",
      "      (bn3): BatchNorm2d(316, eps=1e-05, momentum=0.1, affine=True, track_running_stats=True)\n",
      "      (conv3): Conv2d(316, 1264, kernel_size=(1, 1), stride=(1, 1), bias=False)\n",
      "      (bn4): BatchNorm2d(1264, eps=1e-05, momentum=0.1, affine=True, track_running_stats=True)\n",
      "      (relu): ReLU(inplace=True)\n",
      "    )\n",
      "  )\n",
      "  (bn_final): BatchNorm2d(1264, eps=1e-05, momentum=0.1, affine=True, track_running_stats=True)\n",
      "  (relu_final): ReLU(inplace=True)\n",
      "  (avgpool): AvgPool2d(kernel_size=8, stride=8, padding=0)\n",
      "  (fc): Linear(in_features=1264, out_features=10, bias=True)\n",
      ")\n",
      "the number of model parameters: 6064116\n"
     ]
    }
   ],
   "source": [
    "# original code: https://github.com/dyhan0920/PyramidNet-PyTorch/blob/master/train.py\n",
    "\n",
    "import argparse\n",
    "import os\n",
    "import shutil\n",
    "import time\n",
    "\n",
    "import torch\n",
    "import torch.nn as nn\n",
    "import torch.nn.parallel\n",
    "import torch.backends.cudnn as cudnn\n",
    "import torch.optim\n",
    "import torch.utils.data\n",
    "import torch.utils.data.distributed\n",
    "import torchvision.transforms as transforms\n",
    "import torchvision.datasets as datasets\n",
    "import torchvision.models as models\n",
    "import resnet as RN\n",
    "import pyramidnet as PYRM\n",
    "import utils\n",
    "import numpy as np\n",
    "\n",
    "import warnings\n",
    "\n",
    "warnings.filterwarnings(\"ignore\")\n",
    "\n",
    "model_names = sorted(name for name in models.__dict__\n",
    "                     if name.islower() and not name.startswith(\"__\")\n",
    "                     and callable(models.__dict__[name]))\n",
    "\n",
    "parser = argparse.ArgumentParser(description='Cutmix PyTorch CIFAR-10, CIFAR-100 and ImageNet-1k Training')\n",
    "parser.add_argument('--net_type', default='pyramidnet', type=str,\n",
    "                    help='networktype: resnet, and pyamidnet')\n",
    "parser.add_argument('-j', '--workers', default=4, type=int, metavar='N',\n",
    "                    help='number of data loading workers (default: 4)')\n",
    "parser.add_argument('--epochs', default=90, type=int, metavar='N',\n",
    "                    help='number of total epochs to run')\n",
    "parser.add_argument('-b', '--batch_size', default=128, type=int,\n",
    "                    metavar='N', help='mini-batch size (default: 256)')\n",
    "parser.add_argument('--lr', '--learning-rate', default=0.1, type=float,\n",
    "                    metavar='LR', help='initial learning rate')\n",
    "parser.add_argument('--momentum', default=0.9, type=float, metavar='M',\n",
    "                    help='momentum')\n",
    "parser.add_argument('--weight-decay', '--wd', default=1e-4, type=float,\n",
    "                    metavar='W', help='weight decay (default: 1e-4)')\n",
    "parser.add_argument('--print-freq', '-p', default=1, type=int,\n",
    "                    metavar='N', help='print frequency (default: 10)')\n",
    "parser.add_argument('--depth', default=32, type=int,\n",
    "                    help='depth of the network (default: 32)')\n",
    "parser.add_argument('--no-bottleneck', dest='bottleneck', action='store_false',\n",
    "                    help='to use basicblock for CIFAR datasets (default: bottleneck)')\n",
    "parser.add_argument('--dataset', dest='dataset', default='imagenet', type=str,\n",
    "                    help='dataset (options: cifar10, cifar100, and imagenet)')\n",
    "parser.add_argument('--no-verbose', dest='verbose', action='store_false',\n",
    "                    help='to print the status at every iteration')\n",
    "parser.add_argument('--alpha', default=300, type=float,\n",
    "                    help='number of new channel increases per depth (default: 300)')\n",
    "parser.add_argument('--expname', default='TEST', type=str,\n",
    "                    help='name of experiment')\n",
    "parser.add_argument('--beta', default=0, type=float,\n",
    "                    help='hyperparameter beta')\n",
    "parser.add_argument('--cutmix_prob', default=0, type=float,\n",
    "                    help='cutmix probability')\n",
    "\n",
    "parser.set_defaults(bottleneck=True)\n",
    "parser.set_defaults(verbose=True)\n",
    "\n",
    "best_err1 = 100\n",
    "best_err5 = 100\n",
    "\n",
    "global args, best_err1, best_err5\n",
    "\n",
    "args =  parser.parse_args(args=[])\n",
    "args.dataset = 'cifar10'\n",
    "\n",
    "\n",
    "if args.dataset.startswith('cifar'):\n",
    "    normalize = transforms.Normalize(mean=[x / 255.0 for x in [125.3, 123.0, 113.9]],\n",
    "                                     std=[x / 255.0 for x in [63.0, 62.1, 66.7]])\n",
    "\n",
    "    transform_train = transforms.Compose([\n",
    "        transforms.RandomCrop(32, padding=4),\n",
    "        transforms.RandomHorizontalFlip(),\n",
    "        transforms.ToTensor(),\n",
    "        normalize,\n",
    "    ])\n",
    "\n",
    "    transform_test = transforms.Compose([\n",
    "        transforms.ToTensor(),\n",
    "        normalize\n",
    "    ])\n",
    "\n",
    "    if args.dataset == 'cifar100':\n",
    "        train_loader = torch.utils.data.DataLoader(\n",
    "            datasets.CIFAR100('../data', train=True, download=True, transform=transform_train),\n",
    "            batch_size=args.batch_size, shuffle=True, num_workers=args.workers, pin_memory=True)\n",
    "        val_loader = torch.utils.data.DataLoader(\n",
    "            datasets.CIFAR100('../data', train=False, transform=transform_test),\n",
    "            batch_size=args.batch_size, shuffle=True, num_workers=args.workers, pin_memory=True)\n",
    "        numberofclass = 100\n",
    "    elif args.dataset == 'cifar10':\n",
    "        train_loader = torch.utils.data.DataLoader(\n",
    "            datasets.CIFAR10('../data', train=True, download=True, transform=transform_train),\n",
    "            batch_size=args.batch_size, shuffle=True, num_workers=args.workers, pin_memory=True)\n",
    "        val_loader = torch.utils.data.DataLoader(\n",
    "            datasets.CIFAR10('../data', train=False, transform=transform_test),\n",
    "            batch_size=args.batch_size, shuffle=True, num_workers=args.workers, pin_memory=True)\n",
    "        numberofclass = 10\n",
    "    else:\n",
    "        raise Exception('unknown dataset: {}'.format(args.dataset))\n",
    "\n",
    "elif args.dataset == 'imagenet':\n",
    "    traindir = os.path.join('/home/data/ILSVRC/train')\n",
    "    valdir = os.path.join('/home/data/ILSVRC/val')\n",
    "    normalize = transforms.Normalize(mean=[0.485, 0.456, 0.406],\n",
    "                                     std=[0.229, 0.224, 0.225])\n",
    "\n",
    "    jittering = utils.ColorJitter(brightness=0.4, contrast=0.4,\n",
    "                                  saturation=0.4)\n",
    "    lighting = utils.Lighting(alphastd=0.1,\n",
    "                              eigval=[0.2175, 0.0188, 0.0045],\n",
    "                              eigvec=[[-0.5675, 0.7192, 0.4009],\n",
    "                                      [-0.5808, -0.0045, -0.8140],\n",
    "                                      [-0.5836, -0.6948, 0.4203]])\n",
    "\n",
    "    train_dataset = datasets.ImageFolder(\n",
    "        traindir,\n",
    "        transforms.Compose([\n",
    "            transforms.RandomResizedCrop(224),\n",
    "            transforms.RandomHorizontalFlip(),\n",
    "            transforms.ToTensor(),\n",
    "            jittering,\n",
    "            lighting,\n",
    "            normalize,\n",
    "        ]))\n",
    "\n",
    "    train_sampler = None\n",
    "\n",
    "    train_loader = torch.utils.data.DataLoader(\n",
    "        train_dataset, batch_size=args.batch_size, shuffle=(train_sampler is None),\n",
    "        num_workers=args.workers, pin_memory=True, sampler=train_sampler)\n",
    "\n",
    "    val_loader = torch.utils.data.DataLoader(\n",
    "        datasets.ImageFolder(valdir, transforms.Compose([\n",
    "            transforms.Resize(256),\n",
    "            transforms.CenterCrop(224),\n",
    "            transforms.ToTensor(),\n",
    "            normalize,\n",
    "        ])),\n",
    "        batch_size=args.batch_size, shuffle=False,\n",
    "        num_workers=args.workers, pin_memory=True)\n",
    "    numberofclass = 1000\n",
    "\n",
    "else:\n",
    "    raise Exception('unknown dataset: {}'.format(args.dataset))\n",
    "\n",
    "print(\"=> creating model '{}'\".format(args.net_type))\n",
    "if args.net_type == 'resnet':\n",
    "    model = RN.ResNet(args.dataset, args.depth, numberofclass, args.bottleneck,pretrained=False)  # for ResNet\n",
    "elif args.net_type == 'pyramidnet':\n",
    "    model = PYRM.PyramidNet(args.dataset, args.depth, args.alpha, numberofclass,\n",
    "                            args.bottleneck)\n",
    "else:\n",
    "    raise Exception('unknown network architecture: {}'.format(args.net_type))\n",
    "\n",
    "#model = torch.nn.DataParallel(model).cuda()\n",
    "\n",
    "print(model)\n",
    "print('the number of model parameters: {}'.format(sum([p.data.nelement() for p in model.parameters()])))\n",
    "\n",
    "# define loss function (criterion) and optimizer\n",
    "criterion = nn.CrossEntropyLoss()#.cuda()\n",
    "\n",
    "optimizer = torch.optim.SGD(model.parameters(), args.lr,\n",
    "                            momentum=args.momentum,\n",
    "                            weight_decay=args.weight_decay, nesterov=True)\n",
    "\n",
    "cudnn.benchmark = True\n",
    "\n",
    "args.beta  = 1\n",
    "args.cutmix_prob = 1\n",
    "\n"
   ]
  },
  {
   "cell_type": "code",
   "execution_count": 218,
   "id": "e4f53c42-42e1-4e1f-b20d-071899578833",
   "metadata": {},
   "outputs": [],
   "source": [
    "model.train()\n",
    "current_LR = get_learning_rate(optimizer)[0]\n",
    "\n",
    "\n",
    "def rand_bbox(size, lam):\n",
    "    W = size[2]\n",
    "    H = size[3]\n",
    "    cut_rat = np.sqrt(1. - lam)\n",
    "    cut_w = np.int(W * cut_rat)\n",
    "    cut_h = np.int(H * cut_rat)\n",
    "\n",
    "    # uniform\n",
    "    cx = np.random.randint(W)\n",
    "    cy = np.random.randint(H)\n",
    "\n",
    "    bbx1 = np.clip(cx - cut_w // 2, 0, W)\n",
    "    bby1 = np.clip(cy - cut_h // 2, 0, H)\n",
    "    bbx2 = np.clip(cx + cut_w // 2, 0, W)\n",
    "    bby2 = np.clip(cy + cut_h // 2, 0, H)\n",
    "\n",
    "    return bbx1, bby1, bbx2, bby2\n",
    "\n",
    "\n",
    "def validate(val_loader, model, criterion, epoch):\n",
    "    batch_time = AverageMeter()\n",
    "    losses = AverageMeter()\n",
    "    top1 = AverageMeter()\n",
    "    top5 = AverageMeter()\n",
    "\n",
    "    # switch to evaluate mode\n",
    "    model.eval()\n",
    "\n",
    "    end = time.time()\n",
    "    for i, (input, target) in enumerate(val_loader):\n",
    "        target = target.cuda()\n",
    "\n",
    "        output = model(input)\n",
    "        loss = criterion(output, target)\n",
    "\n",
    "        # measure accuracy and record loss\n",
    "        err1, err5 = accuracy(output.data, target, topk=(1, 5))\n",
    "\n",
    "        losses.update(loss.item(), input.size(0))\n",
    "\n",
    "        top1.update(err1.item(), input.size(0))\n",
    "        top5.update(err5.item(), input.size(0))\n",
    "\n",
    "        # measure elapsed time\n",
    "        batch_time.update(time.time() - end)\n",
    "        end = time.time()\n",
    "\n",
    "        if i % args.print_freq == 0 and args.verbose == True:\n",
    "            print('Test (on val set): [{0}/{1}][{2}/{3}]\\t'\n",
    "                  'Time {batch_time.val:.3f} ({batch_time.avg:.3f})\\t'\n",
    "                  'Loss {loss.val:.4f} ({loss.avg:.4f})\\t'\n",
    "                  'Top 1-err {top1.val:.4f} ({top1.avg:.4f})\\t'\n",
    "                  'Top 5-err {top5.val:.4f} ({top5.avg:.4f})'.format(\n",
    "                epoch, args.epochs, i, len(val_loader), batch_time=batch_time, loss=losses,\n",
    "                top1=top1, top5=top5))\n",
    "\n",
    "    print('* Epoch: [{0}/{1}]\\t Top 1-err {top1.avg:.3f}  Top 5-err {top5.avg:.3f}\\t Test Loss {loss.avg:.3f}'.format(\n",
    "        epoch, args.epochs, top1=top1, top5=top5, loss=losses))\n",
    "    return top1.avg, top5.avg, losses.avg\n",
    "\n",
    "\n",
    "def save_checkpoint(state, is_best, filename='checkpoint.pth.tar'):\n",
    "    directory = \"runs/%s/\" % (args.expname)\n",
    "    if not os.path.exists(directory):\n",
    "        os.makedirs(directory)\n",
    "    filename = directory + filename\n",
    "    torch.save(state, filename)\n",
    "    if is_best:\n",
    "        shutil.copyfile(filename, 'runs/%s/' % (args.expname) + 'model_best.pth.tar')\n",
    "\n",
    "\n",
    "class AverageMeter(object):\n",
    "    \"\"\"Computes and stores the average and current value\"\"\"\n",
    "\n",
    "    def __init__(self):\n",
    "        self.reset()\n",
    "\n",
    "    def reset(self):\n",
    "        self.val = 0\n",
    "        self.avg = 0\n",
    "        self.sum = 0\n",
    "        self.count = 0\n",
    "\n",
    "    def update(self, val, n=1):\n",
    "        self.val = val\n",
    "        self.sum += val * n\n",
    "        self.count += n\n",
    "        self.avg = self.sum / self.count\n",
    "\n",
    "\n",
    "def adjust_learning_rate(optimizer, epoch):\n",
    "    \"\"\"Sets the learning rate to the initial LR decayed by 10 every 30 epochs\"\"\"\n",
    "    if args.dataset.startswith('cifar'):\n",
    "        lr = args.lr * (0.1 ** (epoch // (args.epochs * 0.5))) * (0.1 ** (epoch // (args.epochs * 0.75)))\n",
    "    elif args.dataset == ('imagenet'):\n",
    "        if args.epochs == 300:\n",
    "            lr = args.lr * (0.1 ** (epoch // 75))\n",
    "        else:\n",
    "            lr = args.lr * (0.1 ** (epoch // 30))\n",
    "\n",
    "    for param_group in optimizer.param_groups:\n",
    "        param_group['lr'] = lr\n",
    "\n",
    "\n",
    "def get_learning_rate(optimizer):\n",
    "    lr = []\n",
    "    for param_group in optimizer.param_groups:\n",
    "        lr += [param_group['lr']]\n",
    "    return lr\n",
    "\n",
    "\n",
    "def accuracy(output, target, topk=(1,)):\n",
    "    \"\"\"Computes the precision@k for the specified values of k\"\"\"\n",
    "    maxk = max(topk)\n",
    "    batch_size = target.size(0)\n",
    "\n",
    "    _, pred = output.topk(maxk, 1, True, True)\n",
    "    pred = pred.t()\n",
    "    correct = pred.eq(target.view(1, -1).expand_as(pred))\n",
    "\n",
    "    res = []\n",
    "    for k in topk:\n",
    "        correct_k = correct[:k].reshape(-1).float().sum(0, keepdim=True)\n",
    "        wrong_k = batch_size - correct_k\n",
    "        res.append(wrong_k.mul_(100.0 / batch_size))\n",
    "\n",
    "    return res\n"
   ]
  },
  {
   "cell_type": "code",
   "execution_count": null,
   "id": "15779c64-b769-4975-a571-b65e769392f3",
   "metadata": {},
   "outputs": [],
   "source": []
  },
  {
   "cell_type": "code",
   "execution_count": 219,
   "id": "52b33f17-5f1a-4fa5-b1ea-c5d1e8826262",
   "metadata": {},
   "outputs": [],
   "source": [
    "in1 , tar1 = train_loader.dataset[0]\n",
    "in2 , tar2 = train_loader.dataset[1]\n",
    "\n",
    "target = torch.tensor([tar1,tar2])\n"
   ]
  },
  {
   "cell_type": "code",
   "execution_count": 220,
   "id": "17d3fbe9-f9ed-452e-8dff-19478f573bcb",
   "metadata": {},
   "outputs": [
    {
     "name": "stderr",
     "output_type": "stream",
     "text": [
      "Clipping input data to the valid range for imshow with RGB data ([0..1] for floats or [0..255] for integers).\n",
      "Clipping input data to the valid range for imshow with RGB data ([0..1] for floats or [0..255] for integers).\n"
     ]
    },
    {
     "data": {
      "text/plain": [
       "<matplotlib.image.AxesImage at 0x7fe1877dd490>"
      ]
     },
     "execution_count": 220,
     "metadata": {},
     "output_type": "execute_result"
    },
    {
     "data": {
      "image/png": "[encoded data removed]",
      "text/plain": [
       "<Figure size 432x288 with 1 Axes>"
      ]
     },
     "metadata": {
      "needs_background": "light"
     },
     "output_type": "display_data"
    },
    {
     "data": {
      "image/png": "[encoded data removed]",
      "text/plain": [
       "<Figure size 432x288 with 1 Axes>"
      ]
     },
     "metadata": {
      "needs_background": "light"
     },
     "output_type": "display_data"
    }
   ],
   "source": [
    "input = torch.stack([in1,in2])\n",
    "input.shape\n",
    "from matplotlib import pyplot as plt\n",
    "plt.figure()\n",
    "plt.imshow(input[0].permute(1,2,0))\n",
    "plt.figure()\n",
    "plt.imshow(input[1].permute(1,2,0))\n"
   ]
  },
  {
   "cell_type": "code",
   "execution_count": 221,
   "id": "7b8f9a5a-1e2e-4eb2-b404-8de1209c832e",
   "metadata": {},
   "outputs": [],
   "source": [
    "output1 = model(input)\n",
    "output3= model(input)"
   ]
  },
  {
   "cell_type": "code",
   "execution_count": null,
   "id": "b97b9f76-ccf8-4520-b4ee-87f36c3245f4",
   "metadata": {},
   "outputs": [],
   "source": []
  },
  {
   "cell_type": "code",
   "execution_count": 222,
   "id": "d71b5222-645c-4e0e-ac3c-48c166e7d8b6",
   "metadata": {},
   "outputs": [],
   "source": [
    "r = np.random.rand(1)\n",
    "if args.beta > 0 and r < args.cutmix_prob:\n",
    "    # generate mixed sample\n",
    "    lam = np.random.beta(args.beta, args.beta)\n",
    "    rand_index = [1,0]\n",
    "    target_a = target\n",
    "    target_b = target[rand_index]\n",
    "    bbx1, bby1, bbx2, bby2 = [0,0,10,10]\n",
    "    input2 = torch.zeros_like(input)\n",
    "    input2= input\n",
    "    input2[:, :, bbx1:bbx2, bby1:bby2] = input[rand_index, :, bbx1:bbx2, bby1:bby2]\n",
    "    # adjust lambda to exactly match pixel ratio\n",
    "    lam = 1 - ((bbx2 - bbx1) * (bby2 - bby1) / (input.size()[-1] * input.size()[-2]))\n",
    "    # compute output\n",
    "    output2 = model(input2)\n",
    "    #loss = criterion(output, target_a) * lam + criterion(output, target_b) * (1. - lam)\n",
    "    \n"
   ]
  },
  {
   "cell_type": "code",
   "execution_count": 223,
   "id": "ca75adc4-a3cf-4205-b658-fb7edef8d7ea",
   "metadata": {},
   "outputs": [
    {
     "data": {
      "text/plain": [
       "tensor([[[[-0.4968, -0.7667, -1.1000,  ..., -1.9889, -1.9889, -1.9889],\n",
       "          [-0.5286, -0.6556, -0.9571,  ..., -1.9889, -1.9889, -1.9889],\n",
       "          [-0.5603, -0.6714, -0.9571,  ...,  0.6778,  0.5349,  0.5190],\n",
       "          ...,\n",
       "          [-1.9889, -1.9889, -1.9889,  ...,  0.1857,  0.2810,  1.2333],\n",
       "          [-1.9889, -1.9889, -1.9889,  ...,  0.0270, -0.1794,  0.9635],\n",
       "          [-1.9889, -1.9889, -1.9889,  ..., -0.5603, -1.1952,  0.1857]],\n",
       "\n",
       "         [[-0.4348, -0.7246, -1.0628,  ..., -1.9807, -1.9807, -1.9807],\n",
       "          [-0.4509, -0.5958, -0.9018,  ..., -1.9807, -1.9807, -1.9807],\n",
       "          [-0.4831, -0.5958, -0.9018,  ...,  0.2093,  0.0966,  0.1127],\n",
       "          ...,\n",
       "          [-1.9807, -1.9807, -1.9807,  ..., -0.3543, -0.2576,  0.7085],\n",
       "          [-1.9807, -1.9807, -1.9807,  ..., -0.3543, -0.5797,  0.5153],\n",
       "          [-1.9807, -1.9807, -1.9807,  ..., -0.8696, -1.5942, -0.2899]],\n",
       "\n",
       "         [[-0.4483, -0.6282, -0.8981,  ..., -1.7076, -1.7076, -1.7076],\n",
       "          [-0.5082, -0.5682, -0.8081,  ..., -1.7076, -1.7076, -1.7076],\n",
       "          [-0.5832, -0.6582, -0.8981,  ..., -0.0885, -0.1784, -0.1484],\n",
       "          ...,\n",
       "          [-1.7076, -1.7076, -1.7076,  ..., -0.8981, -0.8531, -0.1784],\n",
       "          [-1.7076, -1.7076, -1.7076,  ..., -0.8231, -1.0180, -0.2384],\n",
       "          [-1.7076, -1.7076, -1.7076,  ..., -1.1079, -1.5427, -0.8081]]],\n",
       "\n",
       "\n",
       "        [[[-1.9889, -1.9889, -1.9889,  ..., -1.9889, -1.9889, -1.9889],\n",
       "          [-1.9889, -1.9889, -1.9889,  ..., -1.9889, -1.9889, -1.9889],\n",
       "          [-1.9889, -1.9889, -1.9889,  ..., -1.9889, -1.9889, -1.9889],\n",
       "          ...,\n",
       "          [-1.6238, -1.4810, -1.1159,  ..., -1.9889, -1.9889, -1.9889],\n",
       "          [-0.7032, -1.1317, -1.2111,  ..., -1.9889, -1.9889, -1.9889],\n",
       "          [ 0.2333,  0.1381, -0.1476,  ..., -1.9889, -1.9889, -1.9889]],\n",
       "\n",
       "         [[-1.9807, -1.9807, -1.9807,  ..., -1.9807, -1.9807, -1.9807],\n",
       "          [-1.9807, -1.9807, -1.9807,  ..., -1.9807, -1.9807, -1.9807],\n",
       "          [-1.9807, -1.9807, -1.9807,  ..., -1.9807, -1.9807, -1.9807],\n",
       "          ...,\n",
       "          [-1.7552, -1.5620, -1.0789,  ..., -1.9807, -1.9807, -1.9807],\n",
       "          [-0.8213, -1.2077, -1.1916,  ..., -1.9807, -1.9807, -1.9807],\n",
       "          [ 0.1127,  0.0644, -0.1610,  ..., -1.9807, -1.9807, -1.9807]],\n",
       "\n",
       "         [[-1.7076, -1.7076, -1.7076,  ..., -1.7076, -1.7076, -1.7076],\n",
       "          [-1.7076, -1.7076, -1.7076,  ..., -1.7076, -1.7076, -1.7076],\n",
       "          [-1.7076, -1.7076, -1.7076,  ..., -1.7076, -1.7076, -1.7076],\n",
       "          ...,\n",
       "          [-1.4978, -1.2729, -0.7481,  ..., -1.7076, -1.7076, -1.7076],\n",
       "          [-0.6132, -0.9280, -0.8381,  ..., -1.7076, -1.7076, -1.7076],\n",
       "          [ 0.3313,  0.2864,  0.1214,  ..., -1.7076, -1.7076, -1.7076]]]])"
      ]
     },
     "execution_count": 223,
     "metadata": {},
     "output_type": "execute_result"
    }
   ],
   "source": [
    "input"
   ]
  },
  {
   "cell_type": "code",
   "execution_count": 224,
   "id": "1b275f14-4238-4714-855d-3f37afedf261",
   "metadata": {},
   "outputs": [
    {
     "name": "stderr",
     "output_type": "stream",
     "text": [
      "Clipping input data to the valid range for imshow with RGB data ([0..1] for floats or [0..255] for integers).\n",
      "Clipping input data to the valid range for imshow with RGB data ([0..1] for floats or [0..255] for integers).\n"
     ]
    },
    {
     "data": {
      "text/plain": [
       "<matplotlib.image.AxesImage at 0x7fe18ec38e20>"
      ]
     },
     "execution_count": 224,
     "metadata": {},
     "output_type": "execute_result"
    },
    {
     "data": {
      "image/png": "[encoded data removed]",
      "text/plain": [
       "<Figure size 432x288 with 1 Axes>"
      ]
     },
     "metadata": {
      "needs_background": "light"
     },
     "output_type": "display_data"
    },
    {
     "data": {
      "image/png": "[encoded data removed]",
      "text/plain": [
       "<Figure size 432x288 with 1 Axes>"
      ]
     },
     "metadata": {
      "needs_background": "light"
     },
     "output_type": "display_data"
    }
   ],
   "source": [
    "plt.figure()\n",
    "plt.imshow(input2[0].permute(1,2,0))\n",
    "plt.figure()\n",
    "plt.imshow(input2[1].permute(1,2,0))\n"
   ]
  },
  {
   "cell_type": "code",
   "execution_count": 225,
   "id": "9c217384-9fb2-41a7-8737-41b56a8a6fb8",
   "metadata": {},
   "outputs": [
    {
     "data": {
      "text/plain": [
       "tensor([[ 0.2711, -0.2325, -0.4196,  0.0606, -0.1891, -0.0977, -0.4141,  0.3660,\n",
       "         -0.0800,  0.1803],\n",
       "        [ 0.2535, -0.3143, -0.3893,  0.0478, -0.1216,  0.0741, -0.4035,  0.4093,\n",
       "          0.0213,  0.2865]], grad_fn=<AddmmBackward0>)"
      ]
     },
     "execution_count": 225,
     "metadata": {},
     "output_type": "execute_result"
    }
   ],
   "source": [
    "output1"
   ]
  },
  {
   "cell_type": "code",
   "execution_count": 226,
   "id": "0fe2b0f3-c325-4f0c-9015-0927c5021a3e",
   "metadata": {},
   "outputs": [
    {
     "data": {
      "text/plain": [
       "tensor([[ 0.3382, -0.2646, -0.3812,  0.0797, -0.1783, -0.1103, -0.3839,  0.4012,\n",
       "         -0.1102,  0.1677],\n",
       "        [ 0.1901, -0.2961, -0.4154,  0.0302, -0.1344,  0.0769, -0.4265,  0.3843,\n",
       "          0.0595,  0.3018]], grad_fn=<AddmmBackward0>)"
      ]
     },
     "execution_count": 226,
     "metadata": {},
     "output_type": "execute_result"
    }
   ],
   "source": [
    "output2"
   ]
  },
  {
   "cell_type": "code",
   "execution_count": 227,
   "id": "3fc2685c-5f09-4458-843c-747831c8c0ee",
   "metadata": {},
   "outputs": [
    {
     "data": {
      "text/plain": [
       "tensor([[ 0.2711, -0.2325, -0.4196,  0.0606, -0.1891, -0.0977, -0.4141,  0.3660,\n",
       "         -0.0800,  0.1803],\n",
       "        [ 0.2535, -0.3143, -0.3893,  0.0478, -0.1216,  0.0741, -0.4035,  0.4093,\n",
       "          0.0213,  0.2865]], grad_fn=<AddmmBackward0>)"
      ]
     },
     "execution_count": 227,
     "metadata": {},
     "output_type": "execute_result"
    }
   ],
   "source": [
    "output3"
   ]
  },
  {
   "cell_type": "code",
   "execution_count": 195,
   "id": "ee188022-a69d-4e39-bb1b-ab9e83f6b930",
   "metadata": {},
   "outputs": [
    {
     "ename": "NameError",
     "evalue": "name 'output' is not defined",
     "output_type": "error",
     "traceback": [
      "\u001b[0;31m---------------------------------------------------------------------------\u001b[0m",
      "\u001b[0;31mNameError\u001b[0m                                 Traceback (most recent call last)",
      "\u001b[0;32m/var/folders/66/yf94__bj78g__627y93jv4hr0000gn/T/ipykernel_42988/828058343.py\u001b[0m in \u001b[0;36m<module>\u001b[0;34m\u001b[0m\n\u001b[1;32m      3\u001b[0m \u001b[0;34m\u001b[0m\u001b[0m\n\u001b[1;32m      4\u001b[0m \u001b[0;31m# measure accuracy and record loss\u001b[0m\u001b[0;34m\u001b[0m\u001b[0;34m\u001b[0m\u001b[0;34m\u001b[0m\u001b[0m\n\u001b[0;32m----> 5\u001b[0;31m \u001b[0merr1\u001b[0m\u001b[0;34m,\u001b[0m \u001b[0merr5\u001b[0m \u001b[0;34m=\u001b[0m \u001b[0maccuracy\u001b[0m\u001b[0;34m(\u001b[0m\u001b[0moutput\u001b[0m\u001b[0;34m.\u001b[0m\u001b[0mdata\u001b[0m\u001b[0;34m,\u001b[0m \u001b[0mtarget\u001b[0m\u001b[0;34m,\u001b[0m \u001b[0mtopk\u001b[0m\u001b[0;34m=\u001b[0m\u001b[0;34m(\u001b[0m\u001b[0;36m1\u001b[0m\u001b[0;34m,\u001b[0m \u001b[0;36m5\u001b[0m\u001b[0;34m)\u001b[0m\u001b[0;34m)\u001b[0m\u001b[0;34m\u001b[0m\u001b[0;34m\u001b[0m\u001b[0m\n\u001b[0m\u001b[1;32m      6\u001b[0m \u001b[0;34m\u001b[0m\u001b[0m\n\u001b[1;32m      7\u001b[0m \u001b[0mlosses\u001b[0m\u001b[0;34m.\u001b[0m\u001b[0mupdate\u001b[0m\u001b[0;34m(\u001b[0m\u001b[0mloss\u001b[0m\u001b[0;34m.\u001b[0m\u001b[0mitem\u001b[0m\u001b[0;34m(\u001b[0m\u001b[0;34m)\u001b[0m\u001b[0;34m,\u001b[0m \u001b[0minput\u001b[0m\u001b[0;34m.\u001b[0m\u001b[0msize\u001b[0m\u001b[0;34m(\u001b[0m\u001b[0;36m0\u001b[0m\u001b[0;34m)\u001b[0m\u001b[0;34m)\u001b[0m\u001b[0;34m\u001b[0m\u001b[0;34m\u001b[0m\u001b[0m\n",
      "\u001b[0;31mNameError\u001b[0m: name 'output' is not defined"
     ]
    }
   ],
   "source": [
    "#loss = criterion(output, target)\n",
    "\n",
    "\n",
    "# measure accuracy and record loss\n",
    "err1, err5 = accuracy(output.data, target, topk=(1, 5))\n",
    "\n",
    "losses.update(loss.item(), input.size(0))\n",
    "top1.update(err1.item(), input.size(0))\n",
    "top5.update(err5.item(), input.size(0))\n",
    "\n",
    "# compute gradient and do SGD step\n",
    "optimizer.zero_grad()\n",
    "loss.backward()\n",
    "optimizer.step()\n",
    "\n",
    "# measure elapsed time\n",
    "batch_time.update(time.time() - end)\n",
    "end = time.time()\n",
    "\n",
    "if i % args.print_freq == 0 and args.verbose == True:\n",
    "    print('Epoch: [{0}/{1}][{2}/{3}]\\t'\n",
    "          'LR: {LR:.6f}\\t'\n",
    "          'Time {batch_time.val:.3f} ({batch_time.avg:.3f})\\t'\n",
    "          'Data {data_time.val:.3f} ({data_time.avg:.3f})\\t'\n",
    "          'Loss {loss.val:.4f} ({loss.avg:.4f})\\t'\n",
    "          'Top 1-err {top1.val:.4f} ({top1.avg:.4f})\\t'\n",
    "          'Top 5-err {top5.val:.4f} ({top5.avg:.4f})'.format(\n",
    "        epoch, args.epochs, i, len(train_loader), LR=current_LR, batch_time=batch_time,\n",
    "        data_time=data_time, loss=losses, top1=top1, top5=top5))\n",
    "\n",
    "print('* Epoch: [{0}/{1}]\\t Top 1-err {top1.avg:.3f}  Top 5-err {top5.avg:.3f}\\t Train Loss {loss.avg:.3f}'.format(\n",
    "epoch, args.epochs, top1=top1, top5=top5, loss=losses))\n",
    "\n"
   ]
  },
  {
   "cell_type": "code",
   "execution_count": 6,
   "id": "3f215c96-4c95-4974-a851-159e5a3457b7",
   "metadata": {},
   "outputs": [],
   "source": [
    "import os \n",
    "resnet_cutmix_path = '/home/raz.adi/advanced-dl-final-project/CutMix/runs/resnet101CutMix'\n",
    "model_name = 'model_best.pth.tar'\n",
    "ckp_name = 'checkpoint.pth.tar'\n",
    "\n"
   ]
  },
  {
   "cell_type": "code",
   "execution_count": 18,
   "id": "431adf28-ec3a-40f2-a283-fe268c6195c7",
   "metadata": {},
   "outputs": [
    {
     "ename": "NameError",
     "evalue": "name 'args' is not defined",
     "output_type": "error",
     "traceback": [
      "\u001b[0;31m---------------------------------------------------------------------------\u001b[0m",
      "\u001b[0;31mNameError\u001b[0m                                 Traceback (most recent call last)",
      "\u001b[0;32m/tmp/ipykernel_36351/2724899488.py\u001b[0m in \u001b[0;36m<module>\u001b[0;34m\u001b[0m\n\u001b[1;32m      2\u001b[0m \u001b[0;32mimport\u001b[0m \u001b[0mresnet\u001b[0m \u001b[0;32mas\u001b[0m \u001b[0mRN\u001b[0m\u001b[0;34m\u001b[0m\u001b[0;34m\u001b[0m\u001b[0m\n\u001b[1;32m      3\u001b[0m \u001b[0;34m\u001b[0m\u001b[0m\n\u001b[0;32m----> 4\u001b[0;31m \u001b[0mmodel\u001b[0m \u001b[0;34m=\u001b[0m \u001b[0mRN\u001b[0m\u001b[0;34m.\u001b[0m\u001b[0mResNet\u001b[0m\u001b[0;34m(\u001b[0m\u001b[0margs\u001b[0m\u001b[0;34m.\u001b[0m\u001b[0mdataset\u001b[0m\u001b[0;34m,\u001b[0m \u001b[0margs\u001b[0m\u001b[0;34m.\u001b[0m\u001b[0mdepth\u001b[0m\u001b[0;34m,\u001b[0m \u001b[0mnumberofclass\u001b[0m\u001b[0;34m,\u001b[0m \u001b[0margs\u001b[0m\u001b[0;34m.\u001b[0m\u001b[0mbottleneck\u001b[0m\u001b[0;34m)\u001b[0m  \u001b[0;31m# for ResNet\u001b[0m\u001b[0;34m\u001b[0m\u001b[0;34m\u001b[0m\u001b[0m\n\u001b[0m\u001b[1;32m      5\u001b[0m \u001b[0;34m\u001b[0m\u001b[0m\n\u001b[1;32m      6\u001b[0m \u001b[0mcheckpoint\u001b[0m \u001b[0;34m=\u001b[0m \u001b[0mtorch\u001b[0m\u001b[0;34m.\u001b[0m\u001b[0mload\u001b[0m\u001b[0;34m(\u001b[0m\u001b[0mckp_path\u001b[0m\u001b[0;34m)\u001b[0m\u001b[0;34m\u001b[0m\u001b[0;34m\u001b[0m\u001b[0m\n",
      "\u001b[0;31mNameError\u001b[0m: name 'args' is not defined"
     ]
    }
   ],
   "source": []
  },
  {
   "cell_type": "code",
   "execution_count": 16,
   "id": "b606a6e7-655e-4910-aee8-f0f8229a0775",
   "metadata": {},
   "outputs": [
    {
     "data": {
      "text/plain": [
       "dict_keys(['epoch', 'arch', 'state_dict', 'best_err1', 'best_err5', 'optimizer'])"
      ]
     },
     "execution_count": 16,
     "metadata": {},
     "output_type": "execute_result"
    }
   ],
   "source": []
  },
  {
   "cell_type": "code",
   "execution_count": null,
   "id": "aa91f2b2-7ab4-429f-a2b9-259fad4a0537",
   "metadata": {},
   "outputs": [],
   "source": []
  }
 ],
 "metadata": {
  "kernelspec": {
   "display_name": "Python 3 (ipykernel)",
   "language": "python",
   "name": "python3"
  },
  "language_info": {
   "codemirror_mode": {
    "name": "ipython",
    "version": 3
   },
   "file_extension": ".py",
   "mimetype": "text/x-python",
   "name": "python",
   "nbconvert_exporter": "python",
   "pygments_lexer": "ipython3",
   "version": "3.8.12"
  }
 },
 "nbformat": 4,
 "nbformat_minor": 5
}
